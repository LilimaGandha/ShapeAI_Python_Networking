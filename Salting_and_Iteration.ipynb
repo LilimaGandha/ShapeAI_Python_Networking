{
  "nbformat": 4,
  "nbformat_minor": 0,
  "metadata": {
    "colab": {
      "name": "Salting and Iteration.ipynb",
      "provenance": []
    },
    "kernelspec": {
      "name": "python3",
      "display_name": "Python 3"
    },
    "language_info": {
      "name": "python"
    }
  },
  "cells": [
    {
      "cell_type": "code",
      "metadata": {
        "colab": {
          "base_uri": "https://localhost:8080/"
        },
        "id": "qt4JS0T0aDtM",
        "outputId": "661eabb7-e82d-42bc-9468-b203eb334f8b"
      },
      "source": [
        "import hashlib\n",
        "temp_pass = hashlib.sha512(\"bibhu\".encode(\"UTF-8\")).hexdigest()\n",
        "print( temp_pass )\n",
        "for i in range(5):\n",
        "  password = hashlib.sha512(temp_pass.encode(\"UTF-8\")).hexdigest()\n",
        "  print(password)\n",
        "  temp_pass = password"
      ],
      "execution_count": 16,
      "outputs": [
        {
          "output_type": "stream",
          "text": [
            "0665bb0e1dec4199e25177032c8c9ffd6fe17cce2b661d8b78ff84f2fceade9adca892a353c5655c4d88cd1e5534cf67cc680195fecb57c450dc915f9486f0e4\n",
            "e7f3ff165bc69b811538813033cbdf5a348ebdc344d97a6feeef5640c80cafd20b0da94400fe73c4ff1075f12debc40081fb56ce338dab41f7934e30290b692c\n",
            "cd44b122e7f2bbdfd4083c2c2f0b25e4cb3b0c9182c4239a503b1f92be17b605248f1c7b8a414b23c3199f6e0da93bca127ed08fb82312dcd67855ced5b84bcf\n",
            "df5762c28fc925a496dc07767c30fb4d6efd43f63c81a84c08d1d2bb1a3e8dd3939b989820d0638e765077e52cfb1a734097ce3945010df6e7a38d2c926ef0ba\n",
            "f3ce4cd0542a7bf59727501c3eeaecd7d6de14f882d18caa7201c6ac1e55f3c227bc9814c14ad820677e44e75fdca1c86d5c6a22c174a1d63e676301cae504bc\n",
            "6f0e2d0df80c8022c42667baa1277ec0a188838573a27c2105b30020fcf4b4dfde9be3020c542cda2ff2f897833abd733a057c0d49aee721ec839b84d9d15752\n"
          ],
          "name": "stdout"
        }
      ]
    }
  ]
}