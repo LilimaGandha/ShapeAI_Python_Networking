{
  "nbformat": 4,
  "nbformat_minor": 0,
  "metadata": {
    "colab": {
      "name": "md5 of String data.ipynb",
      "provenance": [],
      "collapsed_sections": []
    },
    "kernelspec": {
      "name": "python3",
      "display_name": "Python 3"
    },
    "language_info": {
      "name": "python"
    }
  },
  "cells": [
    {
      "cell_type": "code",
      "metadata": {
        "colab": {
          "base_uri": "https://localhost:8080/"
        },
        "id": "q6ik2iswDMrt",
        "outputId": "30f9f133-33f7-4be8-e1f9-d97a3668bef6"
      },
      "source": [
        "import hashlib\n",
        "print(hashlib.md5('My Name is Lilima Gandha'.encode('UTF-8')).hexdigest())"
      ],
      "execution_count": 1,
      "outputs": [
        {
          "output_type": "stream",
          "text": [
            "04867d539d2067a9f540a89ecfe96208\n"
          ],
          "name": "stdout"
        }
      ]
    }
  ]
}