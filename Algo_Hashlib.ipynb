{
  "nbformat": 4,
  "nbformat_minor": 0,
  "metadata": {
    "colab": {
      "name": "Algo_Hashlib.ipynb",
      "provenance": [],
      "collapsed_sections": []
    },
    "kernelspec": {
      "name": "python3",
      "display_name": "Python 3"
    },
    "language_info": {
      "name": "python"
    }
  },
  "cells": [
    {
      "cell_type": "code",
      "metadata": {
        "colab": {
          "base_uri": "https://localhost:8080/"
        },
        "id": "M0KQDS7je2DZ",
        "outputId": "0afdf6ce-1e3c-4a69-9e64-cbc35790e93e"
      },
      "source": [
        "import hashlib\n",
        "\n",
        "def returnHashMD5(a):\n",
        "  return hashlib.md5(a.encode(\"UTF-8\")).hexdigest()\n",
        "\n",
        "def returnHashSHA256(a):\n",
        "  return hashlib.sha256(a.encode(\"UTF-8\")).hexdigest()\n",
        "\n",
        "def returnHashSHA512(a):\n",
        "  return hashlib.sha512(a.encode(\"UTF-8\")).hexdigest()\n",
        "\n",
        "password = returnHashMD5(\"ShapeAI\")\n",
        "print(password)\n",
        "\n",
        "password = returnHashSHA256(\"ShapeAI\")\n",
        "print(password)\n",
        "\n",
        "password = returnHashSHA512(\"ShapeAI\")\n",
        "print(password)\n"
      ],
      "execution_count": 29,
      "outputs": [
        {
          "output_type": "stream",
          "text": [
            "05a2faed9e25872336de734914c29ecb\n",
            "71b1a9d99e0b1737fc0a92eae2c2fa983549b7b1e14b55fe56b643f5d7c39746\n",
            "a35682ab87844ea710852c6ee1e0b01839afb20fffbb12731bbba8fe589a515aadba06a3139ca772b879f0e32b9204fd283851e5a2dd226512b13827be84f26c\n"
          ],
          "name": "stdout"
        }
      ]
    },
    {
      "cell_type": "code",
      "metadata": {
        "id": "iE1MOqX9mRMm"
      },
      "source": [
        ""
      ],
      "execution_count": 21,
      "outputs": []
    }
  ]
}